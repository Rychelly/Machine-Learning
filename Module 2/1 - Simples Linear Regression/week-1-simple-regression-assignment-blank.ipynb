{
 "metadata": {
  "kernelspec": {
   "display_name": "Python 2",
   "language": "python",
   "name": "python2"
  },
  "language_info": {
   "codemirror_mode": {
    "name": "ipython",
    "version": 2
   },
   "file_extension": ".py",
   "mimetype": "text/x-python",
   "name": "python",
   "nbconvert_exporter": "python",
   "pygments_lexer": "ipython2",
   "version": "2.7.10"
  },
  "name": "",
  "signature": "sha256:ef9adcfb1ecf19091ea1aeab450f6ec9d304d23745d5570942a8bff857a6598a"
 },
 "nbformat": 3,
 "nbformat_minor": 0,
 "worksheets": [
  {
   "cells": [
    {
     "cell_type": "heading",
     "level": 1,
     "metadata": {},
     "source": [
      "Regression Week 1: Simple Linear Regression"
     ]
    },
    {
     "cell_type": "markdown",
     "metadata": {},
     "source": [
      "In this notebook we will use data on house sales in King County to predict house prices using simple (one input) linear regression. You will:\n",
      "* Use graphlab SArray and SFrame functions to compute important summary statistics\n",
      "* Write a function to compute the Simple Linear Regression weights using the closed form solution\n",
      "* Write a function to make predictions of the output given the input feature\n",
      "* Turn the regression around to predict the input given the output\n",
      "* Compare two different models for predicting house prices\n",
      "\n",
      "In this notebook you will be provided with some already complete code as well as some code that you should complete yourself in order to answer quiz questions. The code we provide to complte is optional and is there to assist you with solving the problems but feel free to ignore the helper code and write your own."
     ]
    },
    {
     "cell_type": "heading",
     "level": 1,
     "metadata": {},
     "source": [
      "Fire up graphlab create"
     ]
    },
    {
     "cell_type": "code",
     "collapsed": false,
     "input": [
      "import graphlab"
     ],
     "language": "python",
     "metadata": {},
     "outputs": [
      {
       "output_type": "stream",
       "stream": "stderr",
       "text": [
        "A newer version of GraphLab Create (v1.8.5) is available! Your current version is v1.8.4.\n",
        "\n",
        "You can use pip to upgrade the graphlab-create package. For more information see https://dato.com/products/create/upgrade.\n"
       ]
      }
     ],
     "prompt_number": 1
    },
    {
     "cell_type": "markdown",
     "metadata": {},
     "source": [
      "# Load house sales data\n",
      "\n",
      "Dataset is from house sales in King County, the region where the city of Seattle, WA is located."
     ]
    },
    {
     "cell_type": "code",
     "collapsed": false,
     "input": [
      "sales = graphlab.SFrame('kc_house_data.gl/')"
     ],
     "language": "python",
     "metadata": {},
     "outputs": [
      {
       "output_type": "stream",
       "stream": "stderr",
       "text": [
        "2016-04-13 10:44:52,984 [INFO] graphlab.cython.cy_server, 176: GraphLab Create v1.8.4 started. Logging: /tmp/graphlab_server_1460555091.log\n"
       ]
      },
      {
       "output_type": "stream",
       "stream": "stdout",
       "text": [
        "This non-commercial license of GraphLab Create is assigned to rychelly.g.ramos@ieee.org and will expire on September 25, 2016. For commercial licensing options, visit https://dato.com/buy/.\n"
       ]
      }
     ],
     "prompt_number": 2
    },
    {
     "cell_type": "heading",
     "level": 1,
     "metadata": {},
     "source": [
      "Split data into training and testing"
     ]
    },
    {
     "cell_type": "markdown",
     "metadata": {},
     "source": [
      "We use seed=0 so that everyone running this notebook gets the same results.  In practice, you may set a random seed (or let GraphLab Create pick a random seed for you).  "
     ]
    },
    {
     "cell_type": "code",
     "collapsed": false,
     "input": [
      "sales"
     ],
     "language": "python",
     "metadata": {},
     "outputs": [
      {
       "html": [
        "<div style=\"max-height:1000px;max-width:1500px;overflow:auto;\"><table frame=\"box\" rules=\"cols\">\n",
        "    <tr>\n",
        "        <th style=\"padding-left: 1em; padding-right: 1em; text-align: center\">id</th>\n",
        "        <th style=\"padding-left: 1em; padding-right: 1em; text-align: center\">date</th>\n",
        "        <th style=\"padding-left: 1em; padding-right: 1em; text-align: center\">price</th>\n",
        "        <th style=\"padding-left: 1em; padding-right: 1em; text-align: center\">bedrooms</th>\n",
        "        <th style=\"padding-left: 1em; padding-right: 1em; text-align: center\">bathrooms</th>\n",
        "        <th style=\"padding-left: 1em; padding-right: 1em; text-align: center\">sqft_living</th>\n",
        "        <th style=\"padding-left: 1em; padding-right: 1em; text-align: center\">sqft_lot</th>\n",
        "        <th style=\"padding-left: 1em; padding-right: 1em; text-align: center\">floors</th>\n",
        "        <th style=\"padding-left: 1em; padding-right: 1em; text-align: center\">waterfront</th>\n",
        "    </tr>\n",
        "    <tr>\n",
        "        <td style=\"padding-left: 1em; padding-right: 1em; text-align: center; vertical-align: top\">7129300520</td>\n",
        "        <td style=\"padding-left: 1em; padding-right: 1em; text-align: center; vertical-align: top\">2014-10-13 00:00:00+00:00</td>\n",
        "        <td style=\"padding-left: 1em; padding-right: 1em; text-align: center; vertical-align: top\">221900.0</td>\n",
        "        <td style=\"padding-left: 1em; padding-right: 1em; text-align: center; vertical-align: top\">3.0</td>\n",
        "        <td style=\"padding-left: 1em; padding-right: 1em; text-align: center; vertical-align: top\">1.0</td>\n",
        "        <td style=\"padding-left: 1em; padding-right: 1em; text-align: center; vertical-align: top\">1180.0</td>\n",
        "        <td style=\"padding-left: 1em; padding-right: 1em; text-align: center; vertical-align: top\">5650</td>\n",
        "        <td style=\"padding-left: 1em; padding-right: 1em; text-align: center; vertical-align: top\">1</td>\n",
        "        <td style=\"padding-left: 1em; padding-right: 1em; text-align: center; vertical-align: top\">0</td>\n",
        "    </tr>\n",
        "    <tr>\n",
        "        <td style=\"padding-left: 1em; padding-right: 1em; text-align: center; vertical-align: top\">6414100192</td>\n",
        "        <td style=\"padding-left: 1em; padding-right: 1em; text-align: center; vertical-align: top\">2014-12-09 00:00:00+00:00</td>\n",
        "        <td style=\"padding-left: 1em; padding-right: 1em; text-align: center; vertical-align: top\">538000.0</td>\n",
        "        <td style=\"padding-left: 1em; padding-right: 1em; text-align: center; vertical-align: top\">3.0</td>\n",
        "        <td style=\"padding-left: 1em; padding-right: 1em; text-align: center; vertical-align: top\">2.25</td>\n",
        "        <td style=\"padding-left: 1em; padding-right: 1em; text-align: center; vertical-align: top\">2570.0</td>\n",
        "        <td style=\"padding-left: 1em; padding-right: 1em; text-align: center; vertical-align: top\">7242</td>\n",
        "        <td style=\"padding-left: 1em; padding-right: 1em; text-align: center; vertical-align: top\">2</td>\n",
        "        <td style=\"padding-left: 1em; padding-right: 1em; text-align: center; vertical-align: top\">0</td>\n",
        "    </tr>\n",
        "    <tr>\n",
        "        <td style=\"padding-left: 1em; padding-right: 1em; text-align: center; vertical-align: top\">5631500400</td>\n",
        "        <td style=\"padding-left: 1em; padding-right: 1em; text-align: center; vertical-align: top\">2015-02-25 00:00:00+00:00</td>\n",
        "        <td style=\"padding-left: 1em; padding-right: 1em; text-align: center; vertical-align: top\">180000.0</td>\n",
        "        <td style=\"padding-left: 1em; padding-right: 1em; text-align: center; vertical-align: top\">2.0</td>\n",
        "        <td style=\"padding-left: 1em; padding-right: 1em; text-align: center; vertical-align: top\">1.0</td>\n",
        "        <td style=\"padding-left: 1em; padding-right: 1em; text-align: center; vertical-align: top\">770.0</td>\n",
        "        <td style=\"padding-left: 1em; padding-right: 1em; text-align: center; vertical-align: top\">10000</td>\n",
        "        <td style=\"padding-left: 1em; padding-right: 1em; text-align: center; vertical-align: top\">1</td>\n",
        "        <td style=\"padding-left: 1em; padding-right: 1em; text-align: center; vertical-align: top\">0</td>\n",
        "    </tr>\n",
        "    <tr>\n",
        "        <td style=\"padding-left: 1em; padding-right: 1em; text-align: center; vertical-align: top\">2487200875</td>\n",
        "        <td style=\"padding-left: 1em; padding-right: 1em; text-align: center; vertical-align: top\">2014-12-09 00:00:00+00:00</td>\n",
        "        <td style=\"padding-left: 1em; padding-right: 1em; text-align: center; vertical-align: top\">604000.0</td>\n",
        "        <td style=\"padding-left: 1em; padding-right: 1em; text-align: center; vertical-align: top\">4.0</td>\n",
        "        <td style=\"padding-left: 1em; padding-right: 1em; text-align: center; vertical-align: top\">3.0</td>\n",
        "        <td style=\"padding-left: 1em; padding-right: 1em; text-align: center; vertical-align: top\">1960.0</td>\n",
        "        <td style=\"padding-left: 1em; padding-right: 1em; text-align: center; vertical-align: top\">5000</td>\n",
        "        <td style=\"padding-left: 1em; padding-right: 1em; text-align: center; vertical-align: top\">1</td>\n",
        "        <td style=\"padding-left: 1em; padding-right: 1em; text-align: center; vertical-align: top\">0</td>\n",
        "    </tr>\n",
        "    <tr>\n",
        "        <td style=\"padding-left: 1em; padding-right: 1em; text-align: center; vertical-align: top\">1954400510</td>\n",
        "        <td style=\"padding-left: 1em; padding-right: 1em; text-align: center; vertical-align: top\">2015-02-18 00:00:00+00:00</td>\n",
        "        <td style=\"padding-left: 1em; padding-right: 1em; text-align: center; vertical-align: top\">510000.0</td>\n",
        "        <td style=\"padding-left: 1em; padding-right: 1em; text-align: center; vertical-align: top\">3.0</td>\n",
        "        <td style=\"padding-left: 1em; padding-right: 1em; text-align: center; vertical-align: top\">2.0</td>\n",
        "        <td style=\"padding-left: 1em; padding-right: 1em; text-align: center; vertical-align: top\">1680.0</td>\n",
        "        <td style=\"padding-left: 1em; padding-right: 1em; text-align: center; vertical-align: top\">8080</td>\n",
        "        <td style=\"padding-left: 1em; padding-right: 1em; text-align: center; vertical-align: top\">1</td>\n",
        "        <td style=\"padding-left: 1em; padding-right: 1em; text-align: center; vertical-align: top\">0</td>\n",
        "    </tr>\n",
        "    <tr>\n",
        "        <td style=\"padding-left: 1em; padding-right: 1em; text-align: center; vertical-align: top\">7237550310</td>\n",
        "        <td style=\"padding-left: 1em; padding-right: 1em; text-align: center; vertical-align: top\">2014-05-12 00:00:00+00:00</td>\n",
        "        <td style=\"padding-left: 1em; padding-right: 1em; text-align: center; vertical-align: top\">1225000.0</td>\n",
        "        <td style=\"padding-left: 1em; padding-right: 1em; text-align: center; vertical-align: top\">4.0</td>\n",
        "        <td style=\"padding-left: 1em; padding-right: 1em; text-align: center; vertical-align: top\">4.5</td>\n",
        "        <td style=\"padding-left: 1em; padding-right: 1em; text-align: center; vertical-align: top\">5420.0</td>\n",
        "        <td style=\"padding-left: 1em; padding-right: 1em; text-align: center; vertical-align: top\">101930</td>\n",
        "        <td style=\"padding-left: 1em; padding-right: 1em; text-align: center; vertical-align: top\">1</td>\n",
        "        <td style=\"padding-left: 1em; padding-right: 1em; text-align: center; vertical-align: top\">0</td>\n",
        "    </tr>\n",
        "    <tr>\n",
        "        <td style=\"padding-left: 1em; padding-right: 1em; text-align: center; vertical-align: top\">1321400060</td>\n",
        "        <td style=\"padding-left: 1em; padding-right: 1em; text-align: center; vertical-align: top\">2014-06-27 00:00:00+00:00</td>\n",
        "        <td style=\"padding-left: 1em; padding-right: 1em; text-align: center; vertical-align: top\">257500.0</td>\n",
        "        <td style=\"padding-left: 1em; padding-right: 1em; text-align: center; vertical-align: top\">3.0</td>\n",
        "        <td style=\"padding-left: 1em; padding-right: 1em; text-align: center; vertical-align: top\">2.25</td>\n",
        "        <td style=\"padding-left: 1em; padding-right: 1em; text-align: center; vertical-align: top\">1715.0</td>\n",
        "        <td style=\"padding-left: 1em; padding-right: 1em; text-align: center; vertical-align: top\">6819</td>\n",
        "        <td style=\"padding-left: 1em; padding-right: 1em; text-align: center; vertical-align: top\">2</td>\n",
        "        <td style=\"padding-left: 1em; padding-right: 1em; text-align: center; vertical-align: top\">0</td>\n",
        "    </tr>\n",
        "    <tr>\n",
        "        <td style=\"padding-left: 1em; padding-right: 1em; text-align: center; vertical-align: top\">2008000270</td>\n",
        "        <td style=\"padding-left: 1em; padding-right: 1em; text-align: center; vertical-align: top\">2015-01-15 00:00:00+00:00</td>\n",
        "        <td style=\"padding-left: 1em; padding-right: 1em; text-align: center; vertical-align: top\">291850.0</td>\n",
        "        <td style=\"padding-left: 1em; padding-right: 1em; text-align: center; vertical-align: top\">3.0</td>\n",
        "        <td style=\"padding-left: 1em; padding-right: 1em; text-align: center; vertical-align: top\">1.5</td>\n",
        "        <td style=\"padding-left: 1em; padding-right: 1em; text-align: center; vertical-align: top\">1060.0</td>\n",
        "        <td style=\"padding-left: 1em; padding-right: 1em; text-align: center; vertical-align: top\">9711</td>\n",
        "        <td style=\"padding-left: 1em; padding-right: 1em; text-align: center; vertical-align: top\">1</td>\n",
        "        <td style=\"padding-left: 1em; padding-right: 1em; text-align: center; vertical-align: top\">0</td>\n",
        "    </tr>\n",
        "    <tr>\n",
        "        <td style=\"padding-left: 1em; padding-right: 1em; text-align: center; vertical-align: top\">2414600126</td>\n",
        "        <td style=\"padding-left: 1em; padding-right: 1em; text-align: center; vertical-align: top\">2015-04-15 00:00:00+00:00</td>\n",
        "        <td style=\"padding-left: 1em; padding-right: 1em; text-align: center; vertical-align: top\">229500.0</td>\n",
        "        <td style=\"padding-left: 1em; padding-right: 1em; text-align: center; vertical-align: top\">3.0</td>\n",
        "        <td style=\"padding-left: 1em; padding-right: 1em; text-align: center; vertical-align: top\">1.0</td>\n",
        "        <td style=\"padding-left: 1em; padding-right: 1em; text-align: center; vertical-align: top\">1780.0</td>\n",
        "        <td style=\"padding-left: 1em; padding-right: 1em; text-align: center; vertical-align: top\">7470</td>\n",
        "        <td style=\"padding-left: 1em; padding-right: 1em; text-align: center; vertical-align: top\">1</td>\n",
        "        <td style=\"padding-left: 1em; padding-right: 1em; text-align: center; vertical-align: top\">0</td>\n",
        "    </tr>\n",
        "    <tr>\n",
        "        <td style=\"padding-left: 1em; padding-right: 1em; text-align: center; vertical-align: top\">3793500160</td>\n",
        "        <td style=\"padding-left: 1em; padding-right: 1em; text-align: center; vertical-align: top\">2015-03-12 00:00:00+00:00</td>\n",
        "        <td style=\"padding-left: 1em; padding-right: 1em; text-align: center; vertical-align: top\">323000.0</td>\n",
        "        <td style=\"padding-left: 1em; padding-right: 1em; text-align: center; vertical-align: top\">3.0</td>\n",
        "        <td style=\"padding-left: 1em; padding-right: 1em; text-align: center; vertical-align: top\">2.5</td>\n",
        "        <td style=\"padding-left: 1em; padding-right: 1em; text-align: center; vertical-align: top\">1890.0</td>\n",
        "        <td style=\"padding-left: 1em; padding-right: 1em; text-align: center; vertical-align: top\">6560</td>\n",
        "        <td style=\"padding-left: 1em; padding-right: 1em; text-align: center; vertical-align: top\">2</td>\n",
        "        <td style=\"padding-left: 1em; padding-right: 1em; text-align: center; vertical-align: top\">0</td>\n",
        "    </tr>\n",
        "</table>\n",
        "<table frame=\"box\" rules=\"cols\">\n",
        "    <tr>\n",
        "        <th style=\"padding-left: 1em; padding-right: 1em; text-align: center\">view</th>\n",
        "        <th style=\"padding-left: 1em; padding-right: 1em; text-align: center\">condition</th>\n",
        "        <th style=\"padding-left: 1em; padding-right: 1em; text-align: center\">grade</th>\n",
        "        <th style=\"padding-left: 1em; padding-right: 1em; text-align: center\">sqft_above</th>\n",
        "        <th style=\"padding-left: 1em; padding-right: 1em; text-align: center\">sqft_basement</th>\n",
        "        <th style=\"padding-left: 1em; padding-right: 1em; text-align: center\">yr_built</th>\n",
        "        <th style=\"padding-left: 1em; padding-right: 1em; text-align: center\">yr_renovated</th>\n",
        "        <th style=\"padding-left: 1em; padding-right: 1em; text-align: center\">zipcode</th>\n",
        "        <th style=\"padding-left: 1em; padding-right: 1em; text-align: center\">lat</th>\n",
        "    </tr>\n",
        "    <tr>\n",
        "        <td style=\"padding-left: 1em; padding-right: 1em; text-align: center; vertical-align: top\">0</td>\n",
        "        <td style=\"padding-left: 1em; padding-right: 1em; text-align: center; vertical-align: top\">3</td>\n",
        "        <td style=\"padding-left: 1em; padding-right: 1em; text-align: center; vertical-align: top\">7</td>\n",
        "        <td style=\"padding-left: 1em; padding-right: 1em; text-align: center; vertical-align: top\">1180</td>\n",
        "        <td style=\"padding-left: 1em; padding-right: 1em; text-align: center; vertical-align: top\">0</td>\n",
        "        <td style=\"padding-left: 1em; padding-right: 1em; text-align: center; vertical-align: top\">1955</td>\n",
        "        <td style=\"padding-left: 1em; padding-right: 1em; text-align: center; vertical-align: top\">0</td>\n",
        "        <td style=\"padding-left: 1em; padding-right: 1em; text-align: center; vertical-align: top\">98178</td>\n",
        "        <td style=\"padding-left: 1em; padding-right: 1em; text-align: center; vertical-align: top\">47.51123398</td>\n",
        "    </tr>\n",
        "    <tr>\n",
        "        <td style=\"padding-left: 1em; padding-right: 1em; text-align: center; vertical-align: top\">0</td>\n",
        "        <td style=\"padding-left: 1em; padding-right: 1em; text-align: center; vertical-align: top\">3</td>\n",
        "        <td style=\"padding-left: 1em; padding-right: 1em; text-align: center; vertical-align: top\">7</td>\n",
        "        <td style=\"padding-left: 1em; padding-right: 1em; text-align: center; vertical-align: top\">2170</td>\n",
        "        <td style=\"padding-left: 1em; padding-right: 1em; text-align: center; vertical-align: top\">400</td>\n",
        "        <td style=\"padding-left: 1em; padding-right: 1em; text-align: center; vertical-align: top\">1951</td>\n",
        "        <td style=\"padding-left: 1em; padding-right: 1em; text-align: center; vertical-align: top\">1991</td>\n",
        "        <td style=\"padding-left: 1em; padding-right: 1em; text-align: center; vertical-align: top\">98125</td>\n",
        "        <td style=\"padding-left: 1em; padding-right: 1em; text-align: center; vertical-align: top\">47.72102274</td>\n",
        "    </tr>\n",
        "    <tr>\n",
        "        <td style=\"padding-left: 1em; padding-right: 1em; text-align: center; vertical-align: top\">0</td>\n",
        "        <td style=\"padding-left: 1em; padding-right: 1em; text-align: center; vertical-align: top\">3</td>\n",
        "        <td style=\"padding-left: 1em; padding-right: 1em; text-align: center; vertical-align: top\">6</td>\n",
        "        <td style=\"padding-left: 1em; padding-right: 1em; text-align: center; vertical-align: top\">770</td>\n",
        "        <td style=\"padding-left: 1em; padding-right: 1em; text-align: center; vertical-align: top\">0</td>\n",
        "        <td style=\"padding-left: 1em; padding-right: 1em; text-align: center; vertical-align: top\">1933</td>\n",
        "        <td style=\"padding-left: 1em; padding-right: 1em; text-align: center; vertical-align: top\">0</td>\n",
        "        <td style=\"padding-left: 1em; padding-right: 1em; text-align: center; vertical-align: top\">98028</td>\n",
        "        <td style=\"padding-left: 1em; padding-right: 1em; text-align: center; vertical-align: top\">47.73792661</td>\n",
        "    </tr>\n",
        "    <tr>\n",
        "        <td style=\"padding-left: 1em; padding-right: 1em; text-align: center; vertical-align: top\">0</td>\n",
        "        <td style=\"padding-left: 1em; padding-right: 1em; text-align: center; vertical-align: top\">5</td>\n",
        "        <td style=\"padding-left: 1em; padding-right: 1em; text-align: center; vertical-align: top\">7</td>\n",
        "        <td style=\"padding-left: 1em; padding-right: 1em; text-align: center; vertical-align: top\">1050</td>\n",
        "        <td style=\"padding-left: 1em; padding-right: 1em; text-align: center; vertical-align: top\">910</td>\n",
        "        <td style=\"padding-left: 1em; padding-right: 1em; text-align: center; vertical-align: top\">1965</td>\n",
        "        <td style=\"padding-left: 1em; padding-right: 1em; text-align: center; vertical-align: top\">0</td>\n",
        "        <td style=\"padding-left: 1em; padding-right: 1em; text-align: center; vertical-align: top\">98136</td>\n",
        "        <td style=\"padding-left: 1em; padding-right: 1em; text-align: center; vertical-align: top\">47.52082</td>\n",
        "    </tr>\n",
        "    <tr>\n",
        "        <td style=\"padding-left: 1em; padding-right: 1em; text-align: center; vertical-align: top\">0</td>\n",
        "        <td style=\"padding-left: 1em; padding-right: 1em; text-align: center; vertical-align: top\">3</td>\n",
        "        <td style=\"padding-left: 1em; padding-right: 1em; text-align: center; vertical-align: top\">8</td>\n",
        "        <td style=\"padding-left: 1em; padding-right: 1em; text-align: center; vertical-align: top\">1680</td>\n",
        "        <td style=\"padding-left: 1em; padding-right: 1em; text-align: center; vertical-align: top\">0</td>\n",
        "        <td style=\"padding-left: 1em; padding-right: 1em; text-align: center; vertical-align: top\">1987</td>\n",
        "        <td style=\"padding-left: 1em; padding-right: 1em; text-align: center; vertical-align: top\">0</td>\n",
        "        <td style=\"padding-left: 1em; padding-right: 1em; text-align: center; vertical-align: top\">98074</td>\n",
        "        <td style=\"padding-left: 1em; padding-right: 1em; text-align: center; vertical-align: top\">47.61681228</td>\n",
        "    </tr>\n",
        "    <tr>\n",
        "        <td style=\"padding-left: 1em; padding-right: 1em; text-align: center; vertical-align: top\">0</td>\n",
        "        <td style=\"padding-left: 1em; padding-right: 1em; text-align: center; vertical-align: top\">3</td>\n",
        "        <td style=\"padding-left: 1em; padding-right: 1em; text-align: center; vertical-align: top\">11</td>\n",
        "        <td style=\"padding-left: 1em; padding-right: 1em; text-align: center; vertical-align: top\">3890</td>\n",
        "        <td style=\"padding-left: 1em; padding-right: 1em; text-align: center; vertical-align: top\">1530</td>\n",
        "        <td style=\"padding-left: 1em; padding-right: 1em; text-align: center; vertical-align: top\">2001</td>\n",
        "        <td style=\"padding-left: 1em; padding-right: 1em; text-align: center; vertical-align: top\">0</td>\n",
        "        <td style=\"padding-left: 1em; padding-right: 1em; text-align: center; vertical-align: top\">98053</td>\n",
        "        <td style=\"padding-left: 1em; padding-right: 1em; text-align: center; vertical-align: top\">47.65611835</td>\n",
        "    </tr>\n",
        "    <tr>\n",
        "        <td style=\"padding-left: 1em; padding-right: 1em; text-align: center; vertical-align: top\">0</td>\n",
        "        <td style=\"padding-left: 1em; padding-right: 1em; text-align: center; vertical-align: top\">3</td>\n",
        "        <td style=\"padding-left: 1em; padding-right: 1em; text-align: center; vertical-align: top\">7</td>\n",
        "        <td style=\"padding-left: 1em; padding-right: 1em; text-align: center; vertical-align: top\">1715</td>\n",
        "        <td style=\"padding-left: 1em; padding-right: 1em; text-align: center; vertical-align: top\">0</td>\n",
        "        <td style=\"padding-left: 1em; padding-right: 1em; text-align: center; vertical-align: top\">1995</td>\n",
        "        <td style=\"padding-left: 1em; padding-right: 1em; text-align: center; vertical-align: top\">0</td>\n",
        "        <td style=\"padding-left: 1em; padding-right: 1em; text-align: center; vertical-align: top\">98003</td>\n",
        "        <td style=\"padding-left: 1em; padding-right: 1em; text-align: center; vertical-align: top\">47.30972002</td>\n",
        "    </tr>\n",
        "    <tr>\n",
        "        <td style=\"padding-left: 1em; padding-right: 1em; text-align: center; vertical-align: top\">0</td>\n",
        "        <td style=\"padding-left: 1em; padding-right: 1em; text-align: center; vertical-align: top\">3</td>\n",
        "        <td style=\"padding-left: 1em; padding-right: 1em; text-align: center; vertical-align: top\">7</td>\n",
        "        <td style=\"padding-left: 1em; padding-right: 1em; text-align: center; vertical-align: top\">1060</td>\n",
        "        <td style=\"padding-left: 1em; padding-right: 1em; text-align: center; vertical-align: top\">0</td>\n",
        "        <td style=\"padding-left: 1em; padding-right: 1em; text-align: center; vertical-align: top\">1963</td>\n",
        "        <td style=\"padding-left: 1em; padding-right: 1em; text-align: center; vertical-align: top\">0</td>\n",
        "        <td style=\"padding-left: 1em; padding-right: 1em; text-align: center; vertical-align: top\">98198</td>\n",
        "        <td style=\"padding-left: 1em; padding-right: 1em; text-align: center; vertical-align: top\">47.40949984</td>\n",
        "    </tr>\n",
        "    <tr>\n",
        "        <td style=\"padding-left: 1em; padding-right: 1em; text-align: center; vertical-align: top\">0</td>\n",
        "        <td style=\"padding-left: 1em; padding-right: 1em; text-align: center; vertical-align: top\">3</td>\n",
        "        <td style=\"padding-left: 1em; padding-right: 1em; text-align: center; vertical-align: top\">7</td>\n",
        "        <td style=\"padding-left: 1em; padding-right: 1em; text-align: center; vertical-align: top\">1050</td>\n",
        "        <td style=\"padding-left: 1em; padding-right: 1em; text-align: center; vertical-align: top\">730</td>\n",
        "        <td style=\"padding-left: 1em; padding-right: 1em; text-align: center; vertical-align: top\">1960</td>\n",
        "        <td style=\"padding-left: 1em; padding-right: 1em; text-align: center; vertical-align: top\">0</td>\n",
        "        <td style=\"padding-left: 1em; padding-right: 1em; text-align: center; vertical-align: top\">98146</td>\n",
        "        <td style=\"padding-left: 1em; padding-right: 1em; text-align: center; vertical-align: top\">47.51229381</td>\n",
        "    </tr>\n",
        "    <tr>\n",
        "        <td style=\"padding-left: 1em; padding-right: 1em; text-align: center; vertical-align: top\">0</td>\n",
        "        <td style=\"padding-left: 1em; padding-right: 1em; text-align: center; vertical-align: top\">3</td>\n",
        "        <td style=\"padding-left: 1em; padding-right: 1em; text-align: center; vertical-align: top\">7</td>\n",
        "        <td style=\"padding-left: 1em; padding-right: 1em; text-align: center; vertical-align: top\">1890</td>\n",
        "        <td style=\"padding-left: 1em; padding-right: 1em; text-align: center; vertical-align: top\">0</td>\n",
        "        <td style=\"padding-left: 1em; padding-right: 1em; text-align: center; vertical-align: top\">2003</td>\n",
        "        <td style=\"padding-left: 1em; padding-right: 1em; text-align: center; vertical-align: top\">0</td>\n",
        "        <td style=\"padding-left: 1em; padding-right: 1em; text-align: center; vertical-align: top\">98038</td>\n",
        "        <td style=\"padding-left: 1em; padding-right: 1em; text-align: center; vertical-align: top\">47.36840673</td>\n",
        "    </tr>\n",
        "</table>\n",
        "<table frame=\"box\" rules=\"cols\">\n",
        "    <tr>\n",
        "        <th style=\"padding-left: 1em; padding-right: 1em; text-align: center\">long</th>\n",
        "        <th style=\"padding-left: 1em; padding-right: 1em; text-align: center\">sqft_living15</th>\n",
        "        <th style=\"padding-left: 1em; padding-right: 1em; text-align: center\">sqft_lot15</th>\n",
        "    </tr>\n",
        "    <tr>\n",
        "        <td style=\"padding-left: 1em; padding-right: 1em; text-align: center; vertical-align: top\">-122.25677536</td>\n",
        "        <td style=\"padding-left: 1em; padding-right: 1em; text-align: center; vertical-align: top\">1340.0</td>\n",
        "        <td style=\"padding-left: 1em; padding-right: 1em; text-align: center; vertical-align: top\">5650.0</td>\n",
        "    </tr>\n",
        "    <tr>\n",
        "        <td style=\"padding-left: 1em; padding-right: 1em; text-align: center; vertical-align: top\">-122.3188624</td>\n",
        "        <td style=\"padding-left: 1em; padding-right: 1em; text-align: center; vertical-align: top\">1690.0</td>\n",
        "        <td style=\"padding-left: 1em; padding-right: 1em; text-align: center; vertical-align: top\">7639.0</td>\n",
        "    </tr>\n",
        "    <tr>\n",
        "        <td style=\"padding-left: 1em; padding-right: 1em; text-align: center; vertical-align: top\">-122.23319601</td>\n",
        "        <td style=\"padding-left: 1em; padding-right: 1em; text-align: center; vertical-align: top\">2720.0</td>\n",
        "        <td style=\"padding-left: 1em; padding-right: 1em; text-align: center; vertical-align: top\">8062.0</td>\n",
        "    </tr>\n",
        "    <tr>\n",
        "        <td style=\"padding-left: 1em; padding-right: 1em; text-align: center; vertical-align: top\">-122.39318505</td>\n",
        "        <td style=\"padding-left: 1em; padding-right: 1em; text-align: center; vertical-align: top\">1360.0</td>\n",
        "        <td style=\"padding-left: 1em; padding-right: 1em; text-align: center; vertical-align: top\">5000.0</td>\n",
        "    </tr>\n",
        "    <tr>\n",
        "        <td style=\"padding-left: 1em; padding-right: 1em; text-align: center; vertical-align: top\">-122.04490059</td>\n",
        "        <td style=\"padding-left: 1em; padding-right: 1em; text-align: center; vertical-align: top\">1800.0</td>\n",
        "        <td style=\"padding-left: 1em; padding-right: 1em; text-align: center; vertical-align: top\">7503.0</td>\n",
        "    </tr>\n",
        "    <tr>\n",
        "        <td style=\"padding-left: 1em; padding-right: 1em; text-align: center; vertical-align: top\">-122.00528655</td>\n",
        "        <td style=\"padding-left: 1em; padding-right: 1em; text-align: center; vertical-align: top\">4760.0</td>\n",
        "        <td style=\"padding-left: 1em; padding-right: 1em; text-align: center; vertical-align: top\">101930.0</td>\n",
        "    </tr>\n",
        "    <tr>\n",
        "        <td style=\"padding-left: 1em; padding-right: 1em; text-align: center; vertical-align: top\">-122.32704857</td>\n",
        "        <td style=\"padding-left: 1em; padding-right: 1em; text-align: center; vertical-align: top\">2238.0</td>\n",
        "        <td style=\"padding-left: 1em; padding-right: 1em; text-align: center; vertical-align: top\">6819.0</td>\n",
        "    </tr>\n",
        "    <tr>\n",
        "        <td style=\"padding-left: 1em; padding-right: 1em; text-align: center; vertical-align: top\">-122.31457273</td>\n",
        "        <td style=\"padding-left: 1em; padding-right: 1em; text-align: center; vertical-align: top\">1650.0</td>\n",
        "        <td style=\"padding-left: 1em; padding-right: 1em; text-align: center; vertical-align: top\">9711.0</td>\n",
        "    </tr>\n",
        "    <tr>\n",
        "        <td style=\"padding-left: 1em; padding-right: 1em; text-align: center; vertical-align: top\">-122.33659507</td>\n",
        "        <td style=\"padding-left: 1em; padding-right: 1em; text-align: center; vertical-align: top\">1780.0</td>\n",
        "        <td style=\"padding-left: 1em; padding-right: 1em; text-align: center; vertical-align: top\">8113.0</td>\n",
        "    </tr>\n",
        "    <tr>\n",
        "        <td style=\"padding-left: 1em; padding-right: 1em; text-align: center; vertical-align: top\">-122.0308176</td>\n",
        "        <td style=\"padding-left: 1em; padding-right: 1em; text-align: center; vertical-align: top\">2390.0</td>\n",
        "        <td style=\"padding-left: 1em; padding-right: 1em; text-align: center; vertical-align: top\">7570.0</td>\n",
        "    </tr>\n",
        "</table>\n",
        "[21613 rows x 21 columns]<br/>Note: Only the head of the SFrame is printed.<br/>You can use print_rows(num_rows=m, num_columns=n) to print more rows and columns.\n",
        "</div>"
       ],
       "metadata": {},
       "output_type": "pyout",
       "prompt_number": 4,
       "text": [
        "Columns:\n",
        "\tid\tstr\n",
        "\tdate\tdatetime\n",
        "\tprice\tfloat\n",
        "\tbedrooms\tfloat\n",
        "\tbathrooms\tfloat\n",
        "\tsqft_living\tfloat\n",
        "\tsqft_lot\tint\n",
        "\tfloors\tstr\n",
        "\twaterfront\tint\n",
        "\tview\tint\n",
        "\tcondition\tint\n",
        "\tgrade\tint\n",
        "\tsqft_above\tint\n",
        "\tsqft_basement\tint\n",
        "\tyr_built\tint\n",
        "\tyr_renovated\tint\n",
        "\tzipcode\tstr\n",
        "\tlat\tfloat\n",
        "\tlong\tfloat\n",
        "\tsqft_living15\tfloat\n",
        "\tsqft_lot15\tfloat\n",
        "\n",
        "Rows: 21613\n",
        "\n",
        "Data:\n",
        "+------------+---------------------------+-----------+----------+-----------+\n",
        "|     id     |            date           |   price   | bedrooms | bathrooms |\n",
        "+------------+---------------------------+-----------+----------+-----------+\n",
        "| 7129300520 | 2014-10-13 00:00:00+00:00 |  221900.0 |   3.0    |    1.0    |\n",
        "| 6414100192 | 2014-12-09 00:00:00+00:00 |  538000.0 |   3.0    |    2.25   |\n",
        "| 5631500400 | 2015-02-25 00:00:00+00:00 |  180000.0 |   2.0    |    1.0    |\n",
        "| 2487200875 | 2014-12-09 00:00:00+00:00 |  604000.0 |   4.0    |    3.0    |\n",
        "| 1954400510 | 2015-02-18 00:00:00+00:00 |  510000.0 |   3.0    |    2.0    |\n",
        "| 7237550310 | 2014-05-12 00:00:00+00:00 | 1225000.0 |   4.0    |    4.5    |\n",
        "| 1321400060 | 2014-06-27 00:00:00+00:00 |  257500.0 |   3.0    |    2.25   |\n",
        "| 2008000270 | 2015-01-15 00:00:00+00:00 |  291850.0 |   3.0    |    1.5    |\n",
        "| 2414600126 | 2015-04-15 00:00:00+00:00 |  229500.0 |   3.0    |    1.0    |\n",
        "| 3793500160 | 2015-03-12 00:00:00+00:00 |  323000.0 |   3.0    |    2.5    |\n",
        "+------------+---------------------------+-----------+----------+-----------+\n",
        "+-------------+----------+--------+------------+------+-----------+-------+------------+\n",
        "| sqft_living | sqft_lot | floors | waterfront | view | condition | grade | sqft_above |\n",
        "+-------------+----------+--------+------------+------+-----------+-------+------------+\n",
        "|    1180.0   |   5650   |   1    |     0      |  0   |     3     |   7   |    1180    |\n",
        "|    2570.0   |   7242   |   2    |     0      |  0   |     3     |   7   |    2170    |\n",
        "|    770.0    |  10000   |   1    |     0      |  0   |     3     |   6   |    770     |\n",
        "|    1960.0   |   5000   |   1    |     0      |  0   |     5     |   7   |    1050    |\n",
        "|    1680.0   |   8080   |   1    |     0      |  0   |     3     |   8   |    1680    |\n",
        "|    5420.0   |  101930  |   1    |     0      |  0   |     3     |   11  |    3890    |\n",
        "|    1715.0   |   6819   |   2    |     0      |  0   |     3     |   7   |    1715    |\n",
        "|    1060.0   |   9711   |   1    |     0      |  0   |     3     |   7   |    1060    |\n",
        "|    1780.0   |   7470   |   1    |     0      |  0   |     3     |   7   |    1050    |\n",
        "|    1890.0   |   6560   |   2    |     0      |  0   |     3     |   7   |    1890    |\n",
        "+-------------+----------+--------+------------+------+-----------+-------+------------+\n",
        "+---------------+----------+--------------+---------+-------------+\n",
        "| sqft_basement | yr_built | yr_renovated | zipcode |     lat     |\n",
        "+---------------+----------+--------------+---------+-------------+\n",
        "|       0       |   1955   |      0       |  98178  | 47.51123398 |\n",
        "|      400      |   1951   |     1991     |  98125  | 47.72102274 |\n",
        "|       0       |   1933   |      0       |  98028  | 47.73792661 |\n",
        "|      910      |   1965   |      0       |  98136  |   47.52082  |\n",
        "|       0       |   1987   |      0       |  98074  | 47.61681228 |\n",
        "|      1530     |   2001   |      0       |  98053  | 47.65611835 |\n",
        "|       0       |   1995   |      0       |  98003  | 47.30972002 |\n",
        "|       0       |   1963   |      0       |  98198  | 47.40949984 |\n",
        "|      730      |   1960   |      0       |  98146  | 47.51229381 |\n",
        "|       0       |   2003   |      0       |  98038  | 47.36840673 |\n",
        "+---------------+----------+--------------+---------+-------------+\n",
        "+---------------+---------------+-----+\n",
        "|      long     | sqft_living15 | ... |\n",
        "+---------------+---------------+-----+\n",
        "| -122.25677536 |     1340.0    | ... |\n",
        "|  -122.3188624 |     1690.0    | ... |\n",
        "| -122.23319601 |     2720.0    | ... |\n",
        "| -122.39318505 |     1360.0    | ... |\n",
        "| -122.04490059 |     1800.0    | ... |\n",
        "| -122.00528655 |     4760.0    | ... |\n",
        "| -122.32704857 |     2238.0    | ... |\n",
        "| -122.31457273 |     1650.0    | ... |\n",
        "| -122.33659507 |     1780.0    | ... |\n",
        "|  -122.0308176 |     2390.0    | ... |\n",
        "+---------------+---------------+-----+\n",
        "[21613 rows x 21 columns]\n",
        "Note: Only the head of the SFrame is printed.\n",
        "You can use print_rows(num_rows=m, num_columns=n) to print more rows and columns."
       ]
      }
     ],
     "prompt_number": 4
    },
    {
     "cell_type": "code",
     "collapsed": false,
     "input": [
      "train_data,test_data = sales.random_split(.8,seed=0)"
     ],
     "language": "python",
     "metadata": {},
     "outputs": [],
     "prompt_number": 3
    },
    {
     "cell_type": "heading",
     "level": 1,
     "metadata": {},
     "source": [
      "Useful SFrame summary functions"
     ]
    },
    {
     "cell_type": "markdown",
     "metadata": {},
     "source": [
      "In order to make use of the closed form soltion as well as take advantage of graphlab's built in functions we will review some important ones. In particular:\n",
      "* Computing the sum of an SArray\n",
      "* Computing the arithmetic average (mean) of an SArray\n",
      "* multiplying SArrays by constants\n",
      "* multiplying SArrays by other SArrays"
     ]
    },
    {
     "cell_type": "code",
     "collapsed": false,
     "input": [
      "# Let's compute the mean of the House Prices in King County in 2 different ways.\n",
      "prices = sales['price'] # extract the price column of the sales SFrame -- this is now an SArray\n",
      "\n",
      "# recall that the arithmetic average (the mean) is the sum of the prices divided by the total number of houses:\n",
      "sum_prices = prices.sum()\n",
      "num_houses = prices.size() # when prices is an SArray .size() returns its length\n",
      "avg_price_1 = sum_prices/num_houses\n",
      "avg_price_2 = prices.mean() # if you just want the average, the .mean() function\n",
      "print \"average price via method 1: \" + str(avg_price_1)\n",
      "print \"average price via method 2: \" + str(avg_price_2)"
     ],
     "language": "python",
     "metadata": {},
     "outputs": [
      {
       "output_type": "stream",
       "stream": "stdout",
       "text": [
        "average price via method 1: 540088.141905\n",
        "average price via method 2: 540088.141905\n"
       ]
      }
     ],
     "prompt_number": 4
    },
    {
     "cell_type": "markdown",
     "metadata": {},
     "source": [
      "As we see we get the same answer both ways"
     ]
    },
    {
     "cell_type": "code",
     "collapsed": false,
     "input": [
      "# if we want to multiply every price by 0.5 it's a simple as:\n",
      "half_prices = 0.5*prices\n",
      "# Let's compute the sum of squares of price. We can multiply two SArrays of the same length elementwise also with *\n",
      "prices_squared = prices*prices\n",
      "sum_prices_squared = prices_squared.sum() # price_squared is an SArray of the squares and we want to add them up.\n",
      "print \"the sum of price squared is: \" + str(sum_prices_squared)"
     ],
     "language": "python",
     "metadata": {},
     "outputs": [
      {
       "output_type": "stream",
       "stream": "stdout",
       "text": [
        "the sum of price squared is: 9.21732513355e+15\n"
       ]
      }
     ],
     "prompt_number": 5
    },
    {
     "cell_type": "markdown",
     "metadata": {},
     "source": [
      "Aside: The python notation x.xxe+yy means x.xx \\* 10^(yy). e.g 100 = 10^2 = 1*10^2 = 1e2 "
     ]
    },
    {
     "cell_type": "heading",
     "level": 1,
     "metadata": {},
     "source": [
      "Build a generic simple linear regression function "
     ]
    },
    {
     "cell_type": "markdown",
     "metadata": {},
     "source": [
      "Armed with these SArray functions we can use the closed form solution found from lecture to compute the slope and intercept for a simple linear regression on observations stored as SArrays: input_feature, output.\n",
      "\n",
      "Complete the following function (or write your own) to compute the simple linear regression slope and intercept:"
     ]
    },
    {
     "cell_type": "code",
     "collapsed": false,
     "input": [
      "def simple_linear_regression(input_feature, output):\n",
      "    # compute the mean of input_feature and output\n",
      "    input_mean = input_feature.mean()\n",
      "    output_mean = output.mean()\n",
      "    # compute the product of the output and the input_feature and its mean\n",
      "    product = output*input_feature\n",
      "    product_mean = product.mean()\n",
      "    # compute the squared value of the input_feature and its mean\n",
      "    input_square = input_feature*input_feature\n",
      "    input_square_mean = input_square.mean()\n",
      "    # use the formula for the slope\n",
      "    denominador = input_square.sum() - (input_feature.sum()*input_feature.sum())/len(output)\n",
      "    slope = (product.sum() - (input_feature.sum()*output.sum())/len(output))/denominador\n",
      "    # use the formula for the intercept\n",
      "    intercept = -(slope*input_mean)+output_mean\n",
      "    return (intercept, slope)\n"
     ],
     "language": "python",
     "metadata": {},
     "outputs": [],
     "prompt_number": 6
    },
    {
     "cell_type": "markdown",
     "metadata": {},
     "source": [
      "We can test that our function works by passing it something where we know the answer. In particular we can generate a feature and then put the output exactly on a line: output = 1 + 1\\*input_feature then we know both our slope and intercept should be 1\n",
      "\n"
     ]
    },
    {
     "cell_type": "code",
     "collapsed": false,
     "input": [
      "test_feature = graphlab.SArray(range(5))\n",
      "test_output = graphlab.SArray(1 + 1*test_feature)\n",
      "(test_intercept, test_slope) =  simple_linear_regression(test_feature, test_output)\n",
      "print \"Intercept: \" + str(test_intercept)\n",
      "print \"Slope: \" + str(test_slope)"
     ],
     "language": "python",
     "metadata": {
      "scrolled": true
     },
     "outputs": [
      {
       "output_type": "stream",
       "stream": "stdout",
       "text": [
        "Intercept: 1.0\n",
        "Slope: 1\n"
       ]
      }
     ],
     "prompt_number": 7
    },
    {
     "cell_type": "markdown",
     "metadata": {},
     "source": [
      "Now that we know it works let's build a regression model for predicting price based on sqft_living. Rembember that we train on train_data!"
     ]
    },
    {
     "cell_type": "code",
     "collapsed": false,
     "input": [
      "sqft_intercept, sqft_slope = simple_linear_regression(train_data['sqft_living'], train_data['price'])\n",
      "\n",
      "print \"Intercept: \" + str(sqft_intercept)\n",
      "print \"Slope: \" + str(sqft_slope)"
     ],
     "language": "python",
     "metadata": {},
     "outputs": [
      {
       "output_type": "stream",
       "stream": "stdout",
       "text": [
        "Intercept: -47116.0765749\n",
        "Slope: 281.958838568\n"
       ]
      }
     ],
     "prompt_number": 8
    },
    {
     "cell_type": "heading",
     "level": 1,
     "metadata": {},
     "source": [
      "Predicting Values"
     ]
    },
    {
     "cell_type": "markdown",
     "metadata": {},
     "source": [
      "Now that we have the model parameters: intercept & slope we can make predictions. Using SArrays it's easy to multiply an SArray by a constant and add a constant value. Complete the following function to return the predicted output given the input_feature, slope and intercept:"
     ]
    },
    {
     "cell_type": "code",
     "collapsed": false,
     "input": [
      "def get_regression_predictions(input_feature, intercept, slope):\n",
      "    # calculate the predicted values:\n",
      "    predicted_values = intercept + (slope*input_feature)\n",
      "    return predicted_values"
     ],
     "language": "python",
     "metadata": {},
     "outputs": [],
     "prompt_number": 9
    },
    {
     "cell_type": "markdown",
     "metadata": {},
     "source": [
      "Now that we can calculate a prediction given the slop and intercept let's make a prediction. Use (or alter) the following to find out the estimated price for a house with 2650 squarefeet according to the squarefeet model we estiamted above.\n",
      "\n",
      "**Quiz Question: Using your Slope and Intercept from (4), What is the predicted price for a house with 2650 sqft?**"
     ]
    },
    {
     "cell_type": "code",
     "collapsed": false,
     "input": [
      "my_house_sqft = 2650\n",
      "estimated_price = get_regression_predictions(my_house_sqft, sqft_intercept, sqft_slope)\n",
      "print \"The estimated price for a house with %d squarefeet is $%.2f\" % (my_house_sqft, estimated_price)"
     ],
     "language": "python",
     "metadata": {},
     "outputs": [
      {
       "output_type": "stream",
       "stream": "stdout",
       "text": [
        "The estimated price for a house with 2650 squarefeet is $700074.85\n"
       ]
      }
     ],
     "prompt_number": 10
    },
    {
     "cell_type": "heading",
     "level": 1,
     "metadata": {},
     "source": [
      "Residual Sum of Squares"
     ]
    },
    {
     "cell_type": "code",
     "collapsed": true,
     "input": [],
     "language": "python",
     "metadata": {},
     "outputs": [],
     "prompt_number": 10
    },
    {
     "cell_type": "markdown",
     "metadata": {},
     "source": [
      "Now that we have a model and can make predictions let's evaluate our model using Residual Sum of Squares (RSS). Recall that RSS is the sum of the squares of the residuals and the residuals is just a fancy word for the difference between the predicted output and the true output. \n",
      "\n",
      "Complete the following (or write your own) function to compute the RSS of a simple linear regression model given the input_feature, output, intercept and slope:"
     ]
    },
    {
     "cell_type": "code",
     "collapsed": true,
     "input": [
      "def get_residual_sum_of_squares(input_feature, output, intercept, slope):\n",
      "    # First get the predictions\n",
      "    predicted_values_new = get_regression_predictions(input_feature,intercept,slope)\n",
      "    # then compute the residuals (since we are squaring it doesn't matter which order you subtract)\n",
      "    residual = (output*output) - (predicted_values_new*predicted_values_new)\n",
      "    # square the residuals and add them up\n",
      "    RSS = (residual*residual) + (residual*residual)\n",
      "    return(RSS)"
     ],
     "language": "python",
     "metadata": {},
     "outputs": [],
     "prompt_number": 37
    },
    {
     "cell_type": "markdown",
     "metadata": {},
     "source": [
      "Let's test our get_residual_sum_of_squares function by applying it to the test model where the data lie exactly on a line. Since they lie exactly on a line the residual sum of squares should be zero!"
     ]
    },
    {
     "cell_type": "code",
     "collapsed": false,
     "input": [
      "print get_residual_sum_of_squares(test_feature, test_output, test_intercept, test_slope) # should be 0.0"
     ],
     "language": "python",
     "metadata": {},
     "outputs": [
      {
       "output_type": "stream",
       "stream": "stdout",
       "text": [
        "[0.0, 0.0, 0.0, 0.0, 0.0]\n"
       ]
      }
     ],
     "prompt_number": 38
    },
    {
     "cell_type": "markdown",
     "metadata": {},
     "source": [
      "Now use your function to calculate the RSS on training data from the squarefeet model calculated above.\n",
      "\n",
      "**Quiz Question: According to this function and the slope and intercept from the squarefeet model What is the RSS for the simple linear regression using squarefeet to predict prices on TRAINING data?**"
     ]
    },
    {
     "cell_type": "code",
     "collapsed": false,
     "input": [
      "rss_prices_on_sqft = get_residual_sum_of_squares(train_data['sqft_living'], train_data['price'], sqft_intercept, sqft_slope)\n",
      "print 'The RSS of predicting Prices based on Square Feet is : ' + str(rss_prices_on_sqft)\n",
      "\n",
      "rss_prices_on_sqft.sort(ascending=False)"
     ],
     "language": "python",
     "metadata": {},
     "outputs": [
      {
       "output_type": "stream",
       "stream": "stdout",
       "text": [
        "The RSS of predicting Prices based on Square Feet is : [2.0898236134300834e+21, 5.751938450031458e+22, 2.453700249371369e+19, 2.387647711863007e+22, 1.2209832568973227e+22, 9.605940912073444e+23, 3.083962203555419e+22, 9.498851900605272e+20, 4.752204006067792e+22, 3.466827012260205e+22, 4.536988211691541e+23, 3.9564023286381775e+22, 4.043771706965031e+21, 8.796287761102869e+21, 1.2788214703191524e+22, 1.0366388139866427e+22, 4.820942697780926e+21, 3.252681978263986e+21, 7.678540489131297e+20, 2.2301331422840724e+25, 1.4616912070326237e+23, 1.8188037736644836e+18, 1.8737838657434544e+23, 4.299261303252102e+23, 2.100102687577856e+23, 4.29316617587666e+21, 6.711809642880465e+21, 4.575759077194178e+19, 2.0297758401074058e+22, 6.541334420253058e+22, 3.013363602239943e+22, 3.1406808461812387e+22, 1.4902221493542133e+21, 1.8646500186021975e+21, 9.358714624104075e+21, 7.307331765471383e+22, 1.9563493321592077e+23, 1.7807799276010396e+19, 4.493123370893212e+23, 1.815927425183038e+20, 1.3306542444369642e+23, 2.38807757067134e+22, 3.3327886907900647e+24, 1.9467774627967352e+21, 6.923050355978563e+23, 1.125159921520535e+23, 1.310191208178869e+22, 2.1021599910877758e+23, 9.634571547846086e+22, 1.95823993843433e+23, 4.428596251301881e+22, 3.241353276257764e+21, 2.416142924643874e+22, 6.824836728370067e+22, 4.593733649128226e+22, 2.3642775222797677e+19, 3.832293056791471e+23, 3.74105123331145e+23, 1.344088820454863e+23, 3.6639910169150895e+20, 2.0985436548324278e+24, 7.266306427987828e+23, 2.2758291588910658e+20, 1.348970722976066e+23, 4.703170345020885e+22, 6.57095517142295e+21, 5.7680651284740645e+22, 4.101948122814075e+21, 2.29046659677452e+23, 1.0280798515000162e+23, 4.317060010535156e+22, 6.100713817965546e+21, 4.849934262130255e+21, 6.593129624848512e+23, 3.2165908146524374e+23, 2.1268600777125798e+23, 2.8461103512316094e+22, 5.624227504783295e+21, 1.997050407746667e+23, 7.542020343870769e+21, 1.3722786508849545e+21, 2.195117751504854e+23, 2.9986550167735275e+21, 3.006917585320552e+21, 2.690527088739509e+22, 6.271271449401912e+22, 3.802580858823506e+23, 4.3688768957606747e+21, 5.418879147473887e+22, 6.757072318000513e+23, 1.1213184464477032e+19, 1.1020253810350798e+23, 2.0520396444141048e+21, 6.26792263796224e+21, 1.1542799070786228e+23, 1.2053642588435004e+20, 1.0574692992954871e+23, 1.1427869772653974e+22, 6.6277401012712166e+22, 1.488432766187499e+24, ... ]\n"
       ]
      },
      {
       "metadata": {},
       "output_type": "pyout",
       "prompt_number": 44,
       "text": [
        "dtype: float\n",
        "Rows: 17384\n",
        "[4.620340534648367e+27, 3.549812879982239e+27, 1.2042439377876536e+27, 1.1464793745612775e+27, 1.1276297659362429e+27, 9.014343512571763e+26, 5.8023196951905346e+26, 5.725081173275287e+26, 4.296059701287453e+26, 3.646116303116291e+26, 3.0389875694700575e+26, 2.9771926235148888e+26, 2.9624343909700266e+26, 2.657710357250435e+26, 2.626869598948413e+26, 2.62214516665989e+26, 2.4587452787689563e+26, 2.411240643851584e+26, 2.4027434741629258e+26, 2.2785607749516534e+26, 1.8371078632693777e+26, 1.6392959178444158e+26, 1.6268739575138606e+26, 1.5158294645776669e+26, 1.5010382389532256e+26, 1.4626853839078378e+26, 1.4417011561294157e+26, 1.3775400092191471e+26, 1.3608321592182755e+26, 1.3229354364490798e+26, 1.2788806560449747e+26, 1.2572005740493296e+26, 1.180663499113561e+26, 1.1553890716639705e+26, 1.1457385172802945e+26, 1.1085021210107187e+26, 1.0972271222102467e+26, 1.0766023061127371e+26, 1.0624948115439834e+26, 1.0531606117130118e+26, 1.0383292838256998e+26, 1.0006328583319994e+26, 9.748924135638513e+25, 9.665036088341413e+25, 9.378753814547087e+25, 8.52355385835278e+25, 8.48770996113942e+25, 8.240171725292437e+25, 8.20284544382216e+25, 8.107174688990715e+25, 7.973257342896105e+25, 7.829581734957344e+25, 7.774405599125611e+25, 7.7445733541836e+25, 7.6573804957623935e+25, 7.485466894167722e+25, 7.169661891501421e+25, 7.146507269370125e+25, 6.868510847002928e+25, 6.838553517609691e+25, 6.800166270486811e+25, 6.7522794504504475e+25, 6.659744384232521e+25, 6.330601779741916e+25, 5.950707940906809e+25, 5.915381335909642e+25, 5.868827952302498e+25, 5.808231357454651e+25, 5.783406426905962e+25, 5.66819439382941e+25, 5.390000363434597e+25, 5.304710210848904e+25, 5.246939431765268e+25, 5.2148519920824e+25, 5.101405302768869e+25, 4.878629486559828e+25, 4.849035596316643e+25, 4.801339882726848e+25, 4.786449740264718e+25, 4.49593217267187e+25, 4.492043048568724e+25, 4.453916486306706e+25, 4.424786340159364e+25, 4.398909356858372e+25, 4.393177889763027e+25, 4.37527339596125e+25, 4.181153014147648e+25, 4.154686954820341e+25, 4.116061867701987e+25, 4.091989990759072e+25, 4.085405756659011e+25, 4.004117480543772e+25, 3.9310901008203975e+25, 3.9056393567154975e+25, 3.855360127587003e+25, 3.8096905725035585e+25, 3.759475503502792e+25, 3.7448971177389374e+25, 3.681570166577096e+25, 3.589124748701119e+25, ... ]"
       ]
      }
     ],
     "prompt_number": 44
    },
    {
     "cell_type": "heading",
     "level": 1,
     "metadata": {},
     "source": [
      "Predict the squarefeet given price"
     ]
    },
    {
     "cell_type": "markdown",
     "metadata": {},
     "source": [
      "What if we want to predict the squarefoot given the price? Since we have an equation y = a + b\\*x we can solve the function for x. So that if we have the intercept (a) and the slope (b) and the price (y) we can solve for the estimated squarefeet (x).\n",
      "\n",
      "Comlplete the following function to compute the inverse regression estimate, i.e. predict the input_feature given the output!"
     ]
    },
    {
     "cell_type": "code",
     "collapsed": true,
     "input": [
      "def inverse_regression_predictions(output, intercept, slope):\n",
      "    # solve output = intercept + slope*input_feature for input_feature. Use this equation to compute the inverse predictions:\n",
      "    estimated_feature = (output - intercept)/slope\n",
      "    return estimated_feature"
     ],
     "language": "python",
     "metadata": {},
     "outputs": [],
     "prompt_number": 41
    },
    {
     "cell_type": "markdown",
     "metadata": {},
     "source": [
      "Now that we have a function to compute the squarefeet given the price from our simple regression model let's see how big we might expect a house that coses $800,000 to be.\n",
      "\n",
      "**Quiz Question: According to this function and the regression slope and intercept from (3) what is the estimated square-feet for a house costing $800,000?**"
     ]
    },
    {
     "cell_type": "code",
     "collapsed": false,
     "input": [
      "my_house_price = 800000\n",
      "estimated_squarefeet = inverse_regression_predictions(my_house_price, sqft_intercept, sqft_slope)\n",
      "print \"The estimated squarefeet for a house worth $%.2f is %d\" % (my_house_price, estimated_squarefeet)"
     ],
     "language": "python",
     "metadata": {},
     "outputs": [
      {
       "output_type": "stream",
       "stream": "stdout",
       "text": [
        "The estimated squarefeet for a house worth $800000.00 is 3004\n"
       ]
      }
     ],
     "prompt_number": 42
    },
    {
     "cell_type": "heading",
     "level": 1,
     "metadata": {},
     "source": [
      "New Model: estimate prices from bedrooms"
     ]
    },
    {
     "cell_type": "markdown",
     "metadata": {},
     "source": [
      "We have made one model for predicting house prices using squarefeet, but there are many other features in the sales SFrame. \n",
      "Use your simple linear regression function to estimate the regression parameters from predicting Prices based on number of bedrooms. Use the training data!"
     ]
    },
    {
     "cell_type": "code",
     "collapsed": false,
     "input": [
      "# Estimate the slope and intercept for predicting 'price' based on 'bedrooms'\n",
      "\n"
     ],
     "language": "python",
     "metadata": {},
     "outputs": [],
     "prompt_number": null
    },
    {
     "cell_type": "heading",
     "level": 1,
     "metadata": {},
     "source": [
      "Test your Linear Regression Algorithm"
     ]
    },
    {
     "cell_type": "markdown",
     "metadata": {},
     "source": [
      "Now we have two models for predicting the price of a house. How do we know which one is better? Calculate the RSS on the TEST data (remember this data wasn't involved in learning the model). Compute the RSS from predicting prices using bedrooms and from predicting prices using squarefeet.\n",
      "\n",
      "**Quiz Question: Which model (square feet or bedrooms) has lowest RSS on TEST data? Think about why this might be the case.**"
     ]
    },
    {
     "cell_type": "code",
     "collapsed": false,
     "input": [
      "# Compute RSS when using bedrooms on TEST data:\n"
     ],
     "language": "python",
     "metadata": {},
     "outputs": [],
     "prompt_number": null
    },
    {
     "cell_type": "code",
     "collapsed": false,
     "input": [
      "# Compute RSS when using squarfeet on TEST data:\n"
     ],
     "language": "python",
     "metadata": {},
     "outputs": [],
     "prompt_number": null
    }
   ],
   "metadata": {}
  }
 ]
}